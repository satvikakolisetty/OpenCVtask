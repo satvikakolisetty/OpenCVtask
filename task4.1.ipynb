{
 "cells": [
  {
   "cell_type": "code",
   "execution_count": 1,
   "metadata": {},
   "outputs": [],
   "source": [
    "#----------task-4.1------------"
   ]
  },
  {
   "cell_type": "code",
   "execution_count": 3,
   "metadata": {},
   "outputs": [],
   "source": [
    "import cv2 as cv\n",
    "import numpy as np\n",
    "W = 400\n",
    "def my_polygon(img):\n",
    "    line_type = 8\n",
    "    # Create some points\n",
    "    ppt = np.array([[W / 4, 7 * W / 8], [3 * W / 4, 7 * W / 8],\n",
    "                    [3 * W / 4, 13 * W / 16], [11 * W / 16, 13 * W / 16],\n",
    "                    [19 * W / 32, 3 * W / 8], [3 * W / 4, 3 * W / 8],\n",
    "                    [3 * W / 4, W / 8], [26 * W / 40, W / 8],\n",
    "                    [26 * W / 40, W / 4], [22 * W / 40, W / 4],\n",
    "                    [22 * W / 40, W / 8], [18 * W / 40, W / 8],\n",
    "                    [18 * W / 40, W / 4], [14 * W / 40, W / 4],\n",
    "                    [14 * W / 40, W / 8], [W / 4, W / 8],\n",
    "                    [W / 4, 3 * W / 8], [13 * W / 32, 3 * W / 8],\n",
    "                    [5 * W / 16, 13 * W / 16], [W / 4, 13 * W / 16]], np.int32)\n",
    "    ppt = ppt.reshape((-1, 1, 2))\n",
    "    cv.fillPoly(img, [ppt], (255, 50, 0), line_type)\n",
    "    # Only drawind the lines would be:\n",
    "    # cv.polylines(img, [ppt], True, (255, 0, 255), line_type)\n",
    "def my_line(img, start, end):\n",
    "    thickness = 2\n",
    "    line_type = 8\n",
    "    cv.line(img,\n",
    "             start,\n",
    "             end,\n",
    "             (0, 0, 0),\n",
    "             thickness,\n",
    "             line_type)\n",
    "\n",
    "rook_window = \"Rook drawing\"\n",
    "# Create black empty images\n",
    "size = W, W, 3\n",
    "rook_image = np.zeros(size, dtype=np.uint8)\n",
    "\n",
    "# 2.a. Create a convex polygon\n",
    "my_polygon(rook_image)\n",
    "cv.rectangle(rook_image,\n",
    "              (0, 7 * W // 8),\n",
    "              (W, W),\n",
    "              (0, 0, 255),\n",
    "              -1,\n",
    "              8)\n",
    "#  2.c. Create a few lines\n",
    "my_line(rook_image, (0, 15 * W // 16), (W, 15 * W // 16))\n",
    "my_line(rook_image, (W // 4, 7 * W // 8), (W // 4, W))\n",
    "my_line(rook_image, (W // 2, 7 * W // 8), (W // 2, W))\n",
    "my_line(rook_image, (3 * W // 4, 7 * W // 8), (3 * W // 4, W))\n",
    "cv.imshow(rook_window, rook_image)\n",
    "cv.moveWindow(rook_window, W, 200)\n",
    "cv.waitKey(0)\n",
    "cv.destroyAllWindows()"
   ]
  },
  {
   "cell_type": "code",
   "execution_count": null,
   "metadata": {},
   "outputs": [],
   "source": []
  }
 ],
 "metadata": {
  "kernelspec": {
   "display_name": "Python 3",
   "language": "python",
   "name": "python3"
  },
  "language_info": {
   "codemirror_mode": {
    "name": "ipython",
    "version": 3
   },
   "file_extension": ".py",
   "mimetype": "text/x-python",
   "name": "python",
   "nbconvert_exporter": "python",
   "pygments_lexer": "ipython3",
   "version": "3.8.10"
  }
 },
 "nbformat": 4,
 "nbformat_minor": 4
}
